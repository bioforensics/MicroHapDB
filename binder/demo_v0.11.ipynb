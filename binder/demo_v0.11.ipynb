{
 "cells": [
  {
   "cell_type": "markdown",
   "id": "ab157c72-656a-4097-b1c7-6ea5acab9830",
   "metadata": {},
   "source": [
    "# MicroHapDB Tutorial\n",
    "\n",
    "Daniel Standage  \n",
    "2023-08-29  \n",
    "MicroHapDB version 0.11  \n",
    "Updated 2025-04-24\n",
    "\n",
    "## Overview\n",
    "\n",
    "This tutorial provides a brief overview of the MicroHapDB database, its contents, and its features. MicroHapDB is a comprehensive collection of microhaplotype marker and frequency data. It is distributed as a software package that can be installed with pip or conda: see https://microhapdb.readthedocs.io/en/latest/install.html for more information. Once installed, MicroHapDB can be accessed on the terminal via the command `microhapdb`.\n",
    "\n",
    "<small>(The contents of MicroHapDB are also available as Pandas DataFrame objects via a Python API. This will not be covered in this tutorial.)</small>\n",
    "\n",
    "The contents of this tutorial are presented as an interactive notebook, which can be executed in the cloud via mybinder or locally using Jupyter. Each gray box contains a terminal command, and the output of each command will be displayed below the corresponding box as the notebook is executed.\n",
    "\n",
    "## Getting started\n",
    "\n",
    "To get started, let's run the `microhapdb` command with no other text. This elicits a usage statement describing a handful of MicroHapDB operations or \"subcommands.\""
   ]
  },
  {
   "cell_type": "code",
   "execution_count": null,
   "id": "d385fed3-42c3-4e6b-a58f-2d00bfaf737b",
   "metadata": {},
   "outputs": [],
   "source": [
    "microhapdb"
   ]
  },
  {
   "cell_type": "markdown",
   "id": "1da09935-0bb3-4a35-b8eb-5993ca81fc42",
   "metadata": {},
   "source": [
    "The `microhapdb` command has 5 subcommands: `frequency`, `lookup`, `marker`, `population`, and `summarize`. The `summarize` subcommand, as its name suggests, provides a high-level summary of the database contents—this is a good place to start."
   ]
  },
  {
   "cell_type": "code",
   "execution_count": null,
   "id": "5429a5a5-bb34-4e0d-b283-a3baf4c2af7b",
   "metadata": {},
   "outputs": [],
   "source": [
    "microhapdb summarize"
   ]
  },
  {
   "cell_type": "markdown",
   "id": "aa83add8-8778-4e05-b05b-b44c23284c33",
   "metadata": {},
   "source": [
    "Before proceeding, we need to download the GRCh38 human reference genome."
   ]
  },
  {
   "cell_type": "code",
   "execution_count": null,
   "id": "fdaa0300-55ac-4214-975c-7f26bf5b17e4",
   "metadata": {},
   "outputs": [],
   "source": [
    "microhapdb --download"
   ]
  },
  {
   "cell_type": "markdown",
   "id": "458281e5-8b67-4f0e-9f7d-5477b6f4a39c",
   "metadata": {},
   "source": [
    "## Markers\n",
    "\n",
    "The `microhapdb marker` command is used to retrieve information about microhaps from the database. Running the command with no other configuration will dump the entire contents of the markers table onto the screen. Given that there are more than 3000 microhap allele definitions in the database, this usually isn't very useful."
   ]
  },
  {
   "cell_type": "code",
   "execution_count": null,
   "id": "fe311abf-da11-4972-951f-6579ecfa93bd",
   "metadata": {},
   "outputs": [],
   "source": [
    "microhapdb marker"
   ]
  },
  {
   "cell_type": "markdown",
   "id": "b164d065-905a-4dce-8db4-5919d5a0879f",
   "metadata": {},
   "source": [
    "If we add a microhap identifier, MicroHapDB will display info only for that microhap."
   ]
  },
  {
   "cell_type": "code",
   "execution_count": null,
   "id": "981fc307-2863-498d-a8d0-9a9a805e2ac6",
   "metadata": {},
   "outputs": [],
   "source": [
    "microhapdb marker mh03USC-3pA"
   ]
  },
  {
   "cell_type": "markdown",
   "id": "50cc952f-1815-4ac2-ad13-e68feff6c0e8",
   "metadata": {},
   "source": [
    "Adding `--format=detail` will provide a richly detailed report for the selected microhap(s)."
   ]
  },
  {
   "cell_type": "code",
   "execution_count": null,
   "id": "1a32d288-40b1-4a73-9bc1-74969313e4d6",
   "metadata": {},
   "outputs": [],
   "source": [
    "microhapdb marker mh03USC-3pA --format=detail"
   ]
  },
  {
   "cell_type": "markdown",
   "id": "66f4f9a8-8cad-4e66-8f40-1b65cafb5c41",
   "metadata": {},
   "source": [
    "If the provided identifier refers to a microhap locus with multiple allele definitions, all allele definitions will be displayed."
   ]
  },
  {
   "cell_type": "code",
   "execution_count": null,
   "id": "7717f144-a5aa-4def-a866-733719865163",
   "metadata": {},
   "outputs": [],
   "source": [
    "microhapdb marker mh02KK-014"
   ]
  },
  {
   "cell_type": "markdown",
   "id": "223811b2-c41e-4eaf-8e10-b2ac11718410",
   "metadata": {},
   "source": [
    "The user can configure which population is represented in the $A_e$ column, and configure which columns are displayed. See `microhapdb marker --help` below for more instructions."
   ]
  },
  {
   "cell_type": "code",
   "execution_count": null,
   "id": "e8c30db4-1098-48d5-ac2f-4b38c1dd6d5c",
   "metadata": {},
   "outputs": [],
   "source": [
    "microhapdb marker mh02KK-014 --ae-pop=TSI"
   ]
  },
  {
   "cell_type": "code",
   "execution_count": null,
   "id": "74bf5d5e-692f-414e-be9b-9664149fc6d7",
   "metadata": {},
   "outputs": [],
   "source": [
    "microhapdb marker mh02KK-014 --ae-pop=TSI --columns=xca"
   ]
  },
  {
   "cell_type": "markdown",
   "id": "53bea97f-e765-41f5-8b09-05111878fbb7",
   "metadata": {},
   "source": [
    "MicroHapDB will also return results for merged and deprecated records. For example, the microhap `mh05WL-043` is synonymous with `mh05KK-178`, and the database lookup resolves this seemlessly."
   ]
  },
  {
   "cell_type": "code",
   "execution_count": null,
   "id": "61bf138c-efc6-4b17-bdc3-49574366e82f",
   "metadata": {},
   "outputs": [],
   "source": [
    "microhapdb marker mh05WL-043"
   ]
  },
  {
   "cell_type": "markdown",
   "id": "7190b288-9f51-43ee-a5fd-184f7d8c5777",
   "metadata": {},
   "source": [
    "Retrieving markers by their name or identifier is not the only way. Users can also filter by genomic region or by more advanced queries, as shown below."
   ]
  },
  {
   "cell_type": "code",
   "execution_count": null,
   "id": "8aa1979b-a22f-4d03-959e-51d383538875",
   "metadata": {},
   "outputs": [],
   "source": [
    "microhapdb marker --region=chr10:1-4000000"
   ]
  },
  {
   "cell_type": "code",
   "execution_count": null,
   "id": "c03a5854-eecb-4350-a0d9-a191091e01c3",
   "metadata": {},
   "outputs": [],
   "source": [
    "microhapdb marker --query='20 < Extent < 25'"
   ]
  },
  {
   "cell_type": "code",
   "execution_count": null,
   "id": "c9f24fa4-c986-4f62-af64-d31c903f3017",
   "metadata": {},
   "outputs": [],
   "source": [
    "microhapdb marker --query='Source.str.contains(\"NimaGen2023\")'"
   ]
  },
  {
   "cell_type": "markdown",
   "id": "9a2f9c68-433f-45c6-b9c8-6a5c63715320",
   "metadata": {},
   "source": [
    "When designing amplicons or probes for panel, assay, or kit development, you can configure `microhapdb` to return the microhap sequence in FASTA format with the `--format=fasta` flag. The `--format=offsets` will print the corresponding SNP offsets. See `microhapdb marker --help` below for additional options for specifying the boundaries of the target locus."
   ]
  },
  {
   "cell_type": "code",
   "execution_count": null,
   "id": "5876c036-b886-4bb7-be79-87ba27664699",
   "metadata": {},
   "outputs": [],
   "source": [
    "microhapdb marker mh02WL-005 mh08PK-46625 mh09LS-9pC --format=fasta"
   ]
  },
  {
   "cell_type": "code",
   "execution_count": null,
   "id": "6ee6aee1-57af-494b-bdf0-1484a304bf96",
   "metadata": {},
   "outputs": [],
   "source": [
    "microhapdb marker mh02WL-005 mh08PK-46625 mh09LS-9pC --format=offsets"
   ]
  },
  {
   "cell_type": "markdown",
   "id": "34ab6488-ce2e-45be-8cc7-ae929f5d54d5",
   "metadata": {},
   "source": [
    "To see a usage statement describing all of the configuration option shown above, and more, run `microhapdb marker --help`."
   ]
  },
  {
   "cell_type": "code",
   "execution_count": null,
   "id": "d2c95f21-c904-4920-b627-35eaae960283",
   "metadata": {},
   "outputs": [],
   "source": [
    "microhapdb marker --help"
   ]
  },
  {
   "cell_type": "markdown",
   "id": "a6b17d7f-3beb-4f04-aacc-a4b8614da518",
   "metadata": {},
   "source": [
    "## Frequencies\n",
    "\n",
    "The `microhapdb frequencies` command is used to retrieve population allele frequency estimates. Let's run `microhapdb frequencies --help` to get an idea of what our configuration options are."
   ]
  },
  {
   "cell_type": "code",
   "execution_count": null,
   "id": "bfe8e5e7-2ad3-4d0f-8f80-d1258847eea0",
   "metadata": {},
   "outputs": [],
   "source": [
    "microhapdb frequency --help"
   ]
  },
  {
   "cell_type": "markdown",
   "id": "00338cce-ab04-4cc0-af03-01ed3d5e0286",
   "metadata": {},
   "source": [
    "The frequencies table is massive, so we won't attempt to print it to the screen by running `microhapdb frequencies` without any additional configuration. Instead, we'll grab frequencies for all alleles observed at mh02KK-014.v5 for the CEU population."
   ]
  },
  {
   "cell_type": "code",
   "execution_count": null,
   "id": "87b6e72b-bf91-43cb-89ba-8e3305f0cc8b",
   "metadata": {},
   "outputs": [],
   "source": [
    "microhapdb frequency --marker=mh02KK-014.v5 --population=CEU"
   ]
  },
  {
   "cell_type": "markdown",
   "id": "3c2da852-33a0-42fb-8f2f-ed7bcf039718",
   "metadata": {},
   "source": [
    "To get information about a particular population (or all populations) for which frequency data is available, use the command `microhapdb population` command."
   ]
  },
  {
   "cell_type": "code",
   "execution_count": null,
   "id": "06281097-0d5e-49c1-be8e-5228a38fea6e",
   "metadata": {},
   "outputs": [],
   "source": [
    "microhapdb population CEU"
   ]
  },
  {
   "cell_type": "markdown",
   "id": "dd346ec8-87d1-4328-93de-54c90355cddd",
   "metadata": {},
   "source": [
    "By default, frequencies are displayed in a tabular format. But they can be formatted for compatibility with popular probabilistic genotyping programs like EuroForMix with the `--format=efm` flag."
   ]
  },
  {
   "cell_type": "code",
   "execution_count": null,
   "id": "4e3fc500-32d2-4be2-ba96-36e9e303bba3",
   "metadata": {},
   "outputs": [],
   "source": [
    "microhapdb frequency --population=CEU --format=efm --marker mh02WL-005 mh08PK-46625 mh09LS-9pC"
   ]
  }
 ],
 "metadata": {
  "kernelspec": {
   "display_name": "Bash",
   "language": "bash",
   "name": "bash"
  },
  "language_info": {
   "codemirror_mode": "shell",
   "file_extension": ".sh",
   "mimetype": "text/x-sh",
   "name": "bash"
  }
 },
 "nbformat": 4,
 "nbformat_minor": 5
}
