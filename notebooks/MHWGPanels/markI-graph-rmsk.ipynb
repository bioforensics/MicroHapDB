{
 "cells": [
  {
   "cell_type": "code",
   "execution_count": 1,
   "id": "a8db6478-8ebb-4c52-aea9-1751c67a4bc7",
   "metadata": {},
   "outputs": [],
   "source": [
    "from collections import Counter, defaultdict\n",
    "from itertools import combinations, chain, product\n",
    "from matplotlib import pyplot as plt\n",
    "import microhapdb\n",
    "import networkx as nx\n",
    "import pandas as pd\n",
    "import random\n",
    "import sys\n",
    "import time\n",
    "from tqdm.notebook import tqdm"
   ]
  },
  {
   "cell_type": "code",
   "execution_count": 2,
   "id": "f8cffebf-bffc-4526-be21-f9877f8d3c9f",
   "metadata": {},
   "outputs": [],
   "source": [
    "markers = microhapdb.Marker.objectify(microhapdb.markers)\n",
    "markers = [m for m in markers if \"LV\" not in m.name]\n",
    "header = [\n",
    "    \"bin\", \"swScore\", \"milliDiv\", \"milliDel\", \"milliIns\", \"genoName\", \"genoStart\", \"genoEnd\", \"genoLeft\",\n",
    "    \"strand\", \"repName\", \"repClass\", \"repFamily\", \"repStart\", \"repEnd\", \"repLeft\", \"id\"\n",
    "]\n",
    "rmsk = pd.read_csv(\"rmsk.txt.gz\", sep=\"\\t\", names=header)"
   ]
  },
  {
   "cell_type": "code",
   "execution_count": 3,
   "id": "6ee68c1f-1b55-461d-adad-030adab22e8a",
   "metadata": {},
   "outputs": [],
   "source": [
    "def build_graphs(markers):\n",
    "    graphs = defaultdict(nx.Graph)\n",
    "    chroms = sorted(set([m.chrom for m in markers]))\n",
    "    for chrom in chroms:\n",
    "        cmarkers = [m for m in markers if m.chrom == chrom]\n",
    "        graphs[chrom].add_nodes_from(cmarkers)\n",
    "        for mh1, mh2 in combinations(cmarkers, 2):\n",
    "            if abs(mh1.start - mh2.start) >= 10e6:\n",
    "                graphs[chrom].add_edge(mh1, mh2)\n",
    "    return graphs"
   ]
  },
  {
   "cell_type": "code",
   "execution_count": 4,
   "id": "8ed536c5-09a9-41c2-84e7-606ecfeaf835",
   "metadata": {},
   "outputs": [],
   "source": [
    "def get_n_non_repetitive(markers, n=12):\n",
    "    count = 0\n",
    "    for mh in markers:\n",
    "        overlap = rmsk[(rmsk.genoName == mh.chrom) & (rmsk.genoEnd > mh.start) & (rmsk.genoStart < mh.end)]\n",
    "        if len(overlap) == 0:\n",
    "            yield mh\n",
    "            count += 1\n",
    "            if count >= n:\n",
    "                return"
   ]
  },
  {
   "cell_type": "code",
   "execution_count": 5,
   "id": "36527bd9",
   "metadata": {},
   "outputs": [],
   "source": [
    "def build_light_graphs(markers):\n",
    "    graphs = defaultdict(nx.Graph)\n",
    "    chroms = sorted(set([m.chrom for m in markers]))\n",
    "    for chrom in tqdm(chroms):\n",
    "        cmarkers = [m for m in markers if m.chrom == chrom]\n",
    "        short = [m for m in cmarkers if len(m) < 100 and m.data.Ae >= 3.0]\n",
    "        medium = [m for m in cmarkers if 100 <= len(m) < 200 and m.data.Ae >= 4.5]\n",
    "        long = [m for m in cmarkers if 200 <= len(m) < 300 and m.data.Ae >= 5.0]\n",
    "        for marker_set in (short, medium, long):\n",
    "            marker_set = sorted(marker_set, key=lambda m: m.data.Ae, reverse=True)\n",
    "            marker_set = get_n_non_repetitive(marker_set, n=12)\n",
    "            graphs[chrom].add_nodes_from(marker_set)\n",
    "        for mh1, mh2 in combinations(graphs[chrom].nodes, 2):\n",
    "            if abs(mh1.start - mh2.start) >= 10e6:\n",
    "                graphs[chrom].add_edge(mh1, mh2)\n",
    "    return graphs"
   ]
  },
  {
   "cell_type": "code",
   "execution_count": 6,
   "id": "c5b431a7-5600-4d58-add6-e6f75f950639",
   "metadata": {},
   "outputs": [
    {
     "data": {
      "application/vnd.jupyter.widget-view+json": {
       "model_id": "c0259dac72dd4c7382de5f3810e8206d",
       "version_major": 2,
       "version_minor": 0
      },
      "text/plain": [
       "  0%|          | 0/23 [00:00<?, ?it/s]"
      ]
     },
     "metadata": {},
     "output_type": "display_data"
    }
   ],
   "source": [
    "graphs = build_light_graphs(markers)"
   ]
  },
  {
   "cell_type": "code",
   "execution_count": 7,
   "id": "783994cb-e015-40b6-917e-685042ca19b7",
   "metadata": {},
   "outputs": [
    {
     "name": "stdout",
     "output_type": "stream",
     "text": [
      " chr1: nodes=36  edges=499\n",
      "chr10: nodes=25  edges=245\n",
      "chr11: nodes=33  edges=412\n",
      "chr12: nodes=30  edges=369\n",
      "chr13: nodes=36  edges=483\n",
      "chr14: nodes=21  edges=151\n",
      "chr15: nodes=24  edges=215\n",
      "chr16: nodes=30  edges=259\n",
      "chr17: nodes=24  edges=204\n",
      "chr18: nodes=16  edges=95\n",
      "chr19: nodes=17  edges=100\n",
      " chr2: nodes=36  edges=569\n",
      "chr20: nodes=13  edges=56\n",
      "chr21: nodes=20  edges=95\n",
      "chr22: nodes=13  edges=45\n",
      " chr3: nodes=29  edges=356\n",
      " chr4: nodes=36  edges=573\n",
      " chr5: nodes=34  edges=484\n",
      " chr6: nodes=29  edges=359\n",
      " chr7: nodes=32  edges=421\n",
      " chr8: nodes=32  edges=412\n",
      " chr9: nodes=35  edges=452\n",
      " chrX: nodes=3   edges=3\n"
     ]
    }
   ],
   "source": [
    "for chrom, graph in graphs.items():\n",
    "    print(f\"{chrom:>5s}: nodes={graph.number_of_nodes():<3d} edges={graph.number_of_edges()}\")"
   ]
  },
  {
   "cell_type": "code",
   "execution_count": 8,
   "id": "7580a47b-f3c6-410b-9da9-4988e12cf355",
   "metadata": {},
   "outputs": [
    {
     "data": {
      "application/vnd.jupyter.widget-view+json": {
       "model_id": "ef0232a7826f493984c892728c33c674",
       "version_major": 2,
       "version_minor": 0
      },
      "text/plain": [
       "  0%|          | 0/23 [00:00<?, ?it/s]"
      ]
     },
     "metadata": {},
     "output_type": "display_data"
    }
   ],
   "source": [
    "cliques_by_chrom = dict()\n",
    "clique_distr_by_chrom = dict()\n",
    "for chrom, graph in tqdm(sorted(graphs.items(), key=lambda cg: cg[1].number_of_edges())):\n",
    "    #seed = chrom_seeds[chrom]\n",
    "    #if seed is not None:\n",
    "    #    seed = list(seed)\n",
    "    cliques = list(nx.find_cliques(graph, nodes=None))\n",
    "    cliques_by_chrom[chrom] = cliques\n",
    "    clique_distr_by_chrom[chrom] = Counter([len(c) for c in cliques])"
   ]
  },
  {
   "cell_type": "code",
   "execution_count": 9,
   "id": "3e5b57c6-7232-4984-8b2a-5078657367e3",
   "metadata": {},
   "outputs": [
    {
     "name": "stdout",
     "output_type": "stream",
     "text": [
      "chr1   (8, 2340) (7, 1456) (9, 936) (6, 260)\n",
      "chr10  (8, 1008) (7, 72)\n",
      "chr11  (7, 3312) (6, 2376) (8, 192)\n",
      "chr12  (8, 2304) (7, 1296)\n",
      "chr13  (6, 5800) (5, 2975) (7, 1200)\n",
      "chr14  (5, 248) (4, 124)\n",
      "chr15  (6, 672) (5, 70)\n",
      "chr16  (3, 260) (4, 250) (5, 60)\n",
      "chr17  (5, 306) (4, 270) (6, 72)\n",
      "chr18  (5, 90) (4, 81)\n",
      "chr19  (4, 144)\n",
      "chr2   (11, 46656) (10, 15552)\n",
      "chr20  (4, 48) (3, 4)\n",
      "chr21  (3, 76) (2, 11)\n",
      "chr22  (3, 36) (2, 6)\n",
      "chr3   (9, 2430) (10, 1620) (11, 270)\n",
      "chr4   (11, 25600) (10, 18400) (12, 9600) (9, 2400)\n",
      "chr5   (9, 7280) (10, 800) (8, 720)\n",
      "chr6   (9, 1800) (10, 1800)\n",
      "chr7   (9, 1792) (10, 742) (8, 415) (11, 36) (7, 25)\n",
      "chr8   (8, 3300) (7, 1800) (9, 1200)\n",
      "chr9   (5, 2256) (6, 1408) (4, 620)\n",
      "chrX   (3, 1)\n"
     ]
    }
   ],
   "source": [
    "for chrom, dist in sorted(clique_distr_by_chrom.items()):\n",
    "    print(f\"{chrom:6s} \", end=\"\")\n",
    "    print(*dist.most_common())"
   ]
  },
  {
   "cell_type": "code",
   "execution_count": 10,
   "id": "4538a340-ca46-4d34-8e86-edb424b7374a",
   "metadata": {},
   "outputs": [],
   "source": [
    "def has_short_medium_long(clique, mincount=1):\n",
    "    short_count, medium_count, long_count = 0, 0, 0\n",
    "    for marker in clique:\n",
    "        mlen = len(marker)\n",
    "        if mlen < 100:\n",
    "            short_count += 1\n",
    "        elif 100 <= mlen < 200:\n",
    "            medium_count += 1\n",
    "        elif 200 <= mlen < 300:\n",
    "            long_count += 1\n",
    "        if short_count >= mincount and medium_count >= mincount and long_count >= mincount:\n",
    "            return True\n",
    "    return False"
   ]
  },
  {
   "cell_type": "code",
   "execution_count": 11,
   "id": "b5d7cbb3-25f8-42b0-a4b8-ba18fd98d834",
   "metadata": {},
   "outputs": [
    {
     "data": {
      "application/vnd.jupyter.widget-view+json": {
       "model_id": "ad23aff266d04eb79182040ce707d413",
       "version_major": 2,
       "version_minor": 0
      },
      "text/plain": [
       "  0%|          | 0/23 [00:00<?, ?it/s]"
      ]
     },
     "metadata": {},
     "output_type": "display_data"
    },
    {
     "name": "stdout",
     "output_type": "stream",
     "text": [
      "chrX       0     0\n",
      "chr22      0     3\n",
      "chr20      0    20\n",
      "chr18      0    30\n",
      "chr21      0    19\n",
      "chr19      0    26\n",
      "chr14      0    78\n",
      "chr17     12     0\n",
      "chr15     51     0\n",
      "chr10    483     0\n",
      "chr16      0   177\n",
      "chr3    1803     0\n",
      "chr6    2721     0\n",
      "chr12   1672     0\n",
      "chr11   1312     0\n",
      "chr8    2008     0\n",
      "chr7    1842     0\n",
      "chr9     205     0\n",
      "chr13   1224     0\n",
      "chr5    5404     0\n",
      "chr1    1660     0\n",
      "chr2   55908     0\n",
      "chr4   45540     0\n"
     ]
    }
   ],
   "source": [
    "helpful_cliques_2 = defaultdict(list)\n",
    "helpful_cliques_1 = defaultdict(list)\n",
    "for chrom, cliques in tqdm(cliques_by_chrom.items()):\n",
    "    for clique in cliques:\n",
    "        if has_short_medium_long(clique, mincount=2):\n",
    "            helpful_cliques_2[chrom].append(clique)\n",
    "    if len(helpful_cliques_2[chrom]) == 0:\n",
    "        for clique in cliques:\n",
    "            if has_short_medium_long(clique, mincount=1):\n",
    "                helpful_cliques_1[chrom].append(clique)\n",
    "    len2 = len(helpful_cliques_2[chrom])\n",
    "    len1 = len(helpful_cliques_1[chrom])\n",
    "    print(f\"{chrom:6s} {len2:5} {len1:5}\")"
   ]
  },
  {
   "cell_type": "code",
   "execution_count": 12,
   "id": "efe10884-8ccf-4609-bc47-383ba4259704",
   "metadata": {},
   "outputs": [],
   "source": [
    "def clique_avg_ae(clique):\n",
    "    return sum(marker.data.Ae for marker in clique) / len(clique)"
   ]
  },
  {
   "cell_type": "code",
   "execution_count": 13,
   "id": "7684a8b6-ea46-45c5-80ef-c213c96755c8",
   "metadata": {},
   "outputs": [],
   "source": [
    "def clique_repr(clique, n):\n",
    "    short = [mh for mh in clique if len(mh) < 100]\n",
    "    medium = [mh for mh in clique if 100 <= len(mh) < 200]\n",
    "    long = [mh for mh in clique if 200 <= len(mh) < 300]\n",
    "    short = sorted(short, key=lambda mh: mh.data.Ae, reverse=True)\n",
    "    medium = sorted(medium, key=lambda mh: mh.data.Ae, reverse=True)\n",
    "    long = sorted(long, key=lambda mh: mh.data.Ae, reverse=True)\n",
    "    return [*short[:n], *medium[:n], *long[:n]]"
   ]
  },
  {
   "cell_type": "code",
   "execution_count": 14,
   "id": "08d53f2f-4a8a-4dcd-9465-123fa906bb72",
   "metadata": {},
   "outputs": [
    {
     "data": {
      "application/vnd.jupyter.widget-view+json": {
       "model_id": "99bbfa6979524871a3f35fe4d4498358",
       "version_major": 2,
       "version_minor": 0
      },
      "text/plain": [
       "  0%|          | 0/23 [00:00<?, ?it/s]"
      ]
     },
     "metadata": {},
     "output_type": "display_data"
    }
   ],
   "source": [
    "keepers = dict()\n",
    "for chrom in tqdm(cliques_by_chrom):\n",
    "    if len(helpful_cliques_2[chrom]) == 0 and len(helpful_cliques_1[chrom]) == 0:\n",
    "        continue\n",
    "    if len(helpful_cliques_2[chrom]) > 0:\n",
    "        cliques = helpful_cliques_2[chrom]\n",
    "        n = 2\n",
    "    else:\n",
    "        cliques = helpful_cliques_1[chrom]\n",
    "        n = 1\n",
    "    best_avg_ae = 0.0\n",
    "    best_clique = None\n",
    "    for clique in cliques:\n",
    "        clique = clique_repr(clique, n=n)\n",
    "        avg_ae = clique_avg_ae(clique)\n",
    "        if avg_ae > best_avg_ae:\n",
    "            best_avg_ae = avg_ae\n",
    "            best_clique = clique\n",
    "    keepers[chrom] = best_clique"
   ]
  },
  {
   "cell_type": "code",
   "execution_count": 15,
   "id": "c704e75d-daf1-41a5-b71f-24db5819b420",
   "metadata": {},
   "outputs": [
    {
     "name": "stdout",
     "output_type": "stream",
     "text": [
      "chr22 mh22NH-27 mh22WL-005.v1 mh22WL-004.v2\n",
      "chr20 mh20WL-026.v2 mh20WL-023.v1 mh20WL-022.v2\n",
      "chr18 mh18WL-018 mh18WL-014 mh18WL-020\n",
      "chr21 mh21USC-21qA mh21KK-324.v2 mh21WL-020.v2\n",
      "chr19 mh19USC-19qB.v3 mh19USC-19qA.v2 mh19SHY-001.v3\n",
      "chr14 mh14WL-028.v2 mh14SCUZJ-0008955 mh14SHY-003.v3\n",
      "chr17 mh17USC-17qB mh17CP-002 mh17WL-011.v1 mh17WL-004.v1 mh17WL-022.v1 mh17WL-032\n",
      "chr15 mh15WL-015.v2 mh15WL-042 mh15WL-034 mh15WL-004.v1 mh15WL-001.v4 mh15WL-031.v2\n",
      "chr10 mh10WL-042 mh10WL-028 mh10WL-049 mh10SCUZJ-0082020 mh10WL-031 mh10WL-022.v2\n",
      "chr16 mh16KK-259.v6 mh16WL-012.v1 mh16WL-030\n",
      "chr3 mh03USC-3qC.v1 mh03LW-11 mh03FHL-003.v1 mh03WL-003 mh03FHL-001.v2 mh03SCUZJ-0388069\n",
      "chr6 mh06WL-041 mh06WL-063.v2 mh06WL-017.v1 mh06WL-008.v1 mh06WL-051 mh06KK-008.v3\n",
      "chr12 mh12USC-12qC mh12USC-12qA mh12KK-201.v2 mh12SHY-001.v2 mh12WL-002.v2 mh12SCUZJ-0392651\n",
      "chr11 mh11PK-63643.v1 mh11WL-026 mh11WL-003.v1 mh11WL-005.v1 mh11KK-180.v2 mh11WL-036\n",
      "chr8 mh08WL-030 mh08SCUZJ-0523897 mh08WL-058.v1 mh08WL-023 mh08WL-037 mh08WL-056.v2\n",
      "chr7 mh07WL-067 mh07USC-7qA mh07WL-004.v1 mh07SCUZJ-0380111.v2 mh07SCUZJ-0502291.v2 mh07WL-022.v2\n",
      "chr9 mh09WL-023.v2 mh09USC-9qC mh09WL-034 mh09WL-020 mh09SHY-001.v3 mh09WL-044.v2\n",
      "chr13 mh13USC-13qB mh13LS-13qD mh13SCUZJ-0323513 mh13KK-217.v1 mh13WL-001.v2 mh13USC-13qA.v3\n",
      "chr5 mh05USC-5qA mh05USC-5qB mh05WL-067.v1 mh05WL-059 mh05WL-040 mh05WL-026.v2\n",
      "chr1 mh01WL-087 mh01WL-033.v1 mh01WL-005.v1 mh01WL-010.v1 mh01WL-006.v3 mh01WL-070\n",
      "chr2 mh02KK-134.v4 mh02USC-2pC mh02WL-028.v1 mh02SHY-001.v1 mh02WL-003.v2 mh02WL-002.v2\n",
      "chr4 mh04FHL-005.v2 mh04WL-012.v1 mh04SHY-001.v2 mh04WL-028.v1 mh04WL-052.v1 mh04WL-031.v2\n"
     ]
    }
   ],
   "source": [
    "for chrom, clique in keepers.items():\n",
    "    print(chrom, *[mh.name for mh in clique])"
   ]
  },
  {
   "cell_type": "code",
   "execution_count": 16,
   "id": "284297b2-60c7-45fa-96dc-13cbbd253d9b",
   "metadata": {},
   "outputs": [
    {
     "data": {
      "text/plain": [
       "111"
      ]
     },
     "execution_count": 16,
     "metadata": {},
     "output_type": "execute_result"
    }
   ],
   "source": [
    "sum([len(clique) for clique in keepers.values()])"
   ]
  },
  {
   "cell_type": "code",
   "execution_count": 17,
   "id": "61ab98f4-a304-4718-936e-48018342a13d",
   "metadata": {},
   "outputs": [
    {
     "name": "stdout",
     "output_type": "stream",
     "text": [
      "37 37 37\n"
     ]
    }
   ],
   "source": [
    "panel = list()\n",
    "for clique in keepers.values():\n",
    "    panel.extend(clique)\n",
    "panel_short = [mh for mh in panel if len(mh) < 100]\n",
    "panel_medium = [mh for mh in panel if 100 <= len(mh) < 200]\n",
    "panel_long = [mh for mh in panel if 200 <= len(mh) < 300]\n",
    "print(len(panel_short), len(panel_medium), len(panel_long))"
   ]
  },
  {
   "cell_type": "code",
   "execution_count": 18,
   "id": "070d1292-41cc-4054-878b-1eb844e579ab",
   "metadata": {},
   "outputs": [
    {
     "name": "stdout",
     "output_type": "stream",
     "text": [
      "mh22NH-27 mh22WL-005.v1 mh22WL-004.v2 mh20WL-026.v2 mh20WL-023.v1 mh20WL-022.v2 mh18WL-018 mh18WL-014 mh18WL-020 mh21USC-21qA mh21KK-324.v2 mh21WL-020.v2 mh19USC-19qB.v3 mh19USC-19qA.v2 mh19SHY-001.v3 mh14WL-028.v2 mh14SCUZJ-0008955 mh14SHY-003.v3 mh17USC-17qB mh17CP-002 mh17WL-011.v1 mh17WL-004.v1 mh17WL-022.v1 mh17WL-032 mh15WL-015.v2 mh15WL-042 mh15WL-034 mh15WL-004.v1 mh15WL-001.v4 mh15WL-031.v2 mh10WL-042 mh10WL-028 mh10WL-049 mh10SCUZJ-0082020 mh10WL-031 mh10WL-022.v2 mh16KK-259.v6 mh16WL-012.v1 mh16WL-030 mh03USC-3qC.v1 mh03LW-11 mh03FHL-003.v1 mh03WL-003 mh03FHL-001.v2 mh03SCUZJ-0388069 mh06WL-041 mh06WL-063.v2 mh06WL-017.v1 mh06WL-008.v1 mh06WL-051 mh06KK-008.v3 mh12USC-12qC mh12USC-12qA mh12KK-201.v2 mh12SHY-001.v2 mh12WL-002.v2 mh12SCUZJ-0392651 mh11PK-63643.v1 mh11WL-026 mh11WL-003.v1 mh11WL-005.v1 mh11KK-180.v2 mh11WL-036 mh08WL-030 mh08SCUZJ-0523897 mh08WL-058.v1 mh08WL-023 mh08WL-037 mh08WL-056.v2 mh07WL-067 mh07USC-7qA mh07WL-004.v1 mh07SCUZJ-0380111.v2 mh07SCUZJ-0502291.v2 mh07WL-022.v2 mh09WL-023.v2 mh09USC-9qC mh09WL-034 mh09WL-020 mh09SHY-001.v3 mh09WL-044.v2 mh13USC-13qB mh13LS-13qD mh13SCUZJ-0323513 mh13KK-217.v1 mh13WL-001.v2 mh13USC-13qA.v3 mh05USC-5qA mh05USC-5qB mh05WL-067.v1 mh05WL-059 mh05WL-040 mh05WL-026.v2 mh01WL-087 mh01WL-033.v1 mh01WL-005.v1 mh01WL-010.v1 mh01WL-006.v3 mh01WL-070 mh02KK-134.v4 mh02USC-2pC mh02WL-028.v1 mh02SHY-001.v1 mh02WL-003.v2 mh02WL-002.v2 mh04FHL-005.v2 mh04WL-012.v1 mh04SHY-001.v2 mh04WL-028.v1 mh04WL-052.v1 mh04WL-031.v2\n"
     ]
    }
   ],
   "source": [
    "print(*[mh.name for mh in panel])"
   ]
  },
  {
   "cell_type": "code",
   "execution_count": 19,
   "id": "c90533ab-cfbe-465d-b1c2-1bacc827c058",
   "metadata": {},
   "outputs": [
    {
     "name": "stdout",
     "output_type": "stream",
     "text": [
      "('Yu2022G3', 38)\n",
      "('Yu2022G1', 37)\n",
      "('Yu2022G2', 23)\n",
      "('Zhu2023', 19)\n",
      "('Yu2022G4', 17)\n",
      "('delaPuente2020', 11)\n",
      "('Gandotra2020', 2)\n",
      "('Zhang2023', 2)\n",
      "('Pakstis2021', 2)\n",
      "('NimaGen2023', 2)\n",
      "('Hiroaki2015', 1)\n",
      "('Chen2019', 1)\n",
      "('Fan2022', 1)\n",
      "('vanderGaag2018', 1)\n",
      "('Du2023', 1)\n",
      "('Kidd2018', 1)\n",
      "('Turchi2019', 1)\n",
      "('Staadig2021', 1)\n",
      "('Wu2021', 1)\n"
     ]
    }
   ],
   "source": [
    "source_counts = Counter()\n",
    "for mh in panel:\n",
    "    for source in mh.data.Source.split(\";\"):\n",
    "        source_counts[source] += 1\n",
    "print(*source_counts.most_common(), sep=\"\\n\")"
   ]
  },
  {
   "cell_type": "code",
   "execution_count": 20,
   "id": "d619649b-4216-42bc-a9a3-90c1f9619c84",
   "metadata": {},
   "outputs": [
    {
     "data": {
      "image/png": "[encoded data removed]",
      "text/plain": [
       "<Figure size 750x750 with 1 Axes>"
      ]
     },
     "metadata": {},
     "output_type": "display_data"
    }
   ],
   "source": [
    "plt.figure(figsize=(5, 5), dpi=150)\n",
    "plt.scatter([len(mh) for mh in panel_short], [mh.data.Ae for mh in panel_short], marker=\"+\", alpha=0.5, color=\"green\")\n",
    "plt.scatter([len(mh) for mh in panel_medium], [mh.data.Ae for mh in panel_medium], marker=\"2\", alpha=0.5, color=\"red\")\n",
    "plt.scatter([len(mh) for mh in panel_long], [mh.data.Ae for mh in panel_long], marker=\"x\", alpha=0.5, color=\"blue\")\n",
    "plt.ylabel(\"$A_e$ (1KGP 26-population Average)\")\n",
    "plt.xlabel(\"Marker length (bp)\")\n",
    "plt.ylim((0, 25))\n",
    "plt.gca().spines[\"top\"].set_visible(False)\n",
    "plt.gca().spines[\"right\"].set_visible(False)\n",
    "plt.gca().yaxis.grid(True, color=\"#DDDDDD\")\n",
    "plt.gca().set_axisbelow(True)"
   ]
  },
  {
   "cell_type": "code",
   "execution_count": 30,
   "id": "53a6d14b-6bec-4a26-9caa-c9367f9f5936",
   "metadata": {},
   "outputs": [
    {
     "data": {
      "text/html": [
       "<div>\n",
       "<style scoped>\n",
       "    .dataframe tbody tr th:only-of-type {\n",
       "        vertical-align: middle;\n",
       "    }\n",
       "\n",
       "    .dataframe tbody tr th {\n",
       "        vertical-align: top;\n",
       "    }\n",
       "\n",
       "    .dataframe thead th {\n",
       "        text-align: right;\n",
       "    }\n",
       "</style>\n",
       "<table border=\"1\" class=\"dataframe\">\n",
       "  <thead>\n",
       "    <tr style=\"text-align: right;\">\n",
       "      <th></th>\n",
       "      <th>Name</th>\n",
       "      <th>NumVars</th>\n",
       "      <th>Extent</th>\n",
       "      <th>Chrom</th>\n",
       "      <th>Start</th>\n",
       "      <th>End</th>\n",
       "      <th>Positions</th>\n",
       "      <th>Positions37</th>\n",
       "      <th>RSIDs</th>\n",
       "      <th>Source</th>\n",
       "      <th>Ae</th>\n",
       "    </tr>\n",
       "  </thead>\n",
       "  <tbody>\n",
       "    <tr>\n",
       "      <th>2649</th>\n",
       "      <td>mh17WL-004.v1</td>\n",
       "      <td>4</td>\n",
       "      <td>194</td>\n",
       "      <td>chr17</td>\n",
       "      <td>68793693</td>\n",
       "      <td>68793886</td>\n",
       "      <td>68793693;68793818;68793847;68793886</td>\n",
       "      <td>66789834;66789959;66789988;66790027</td>\n",
       "      <td>rs16967221;rs2120192;rs6501742;rs9891808</td>\n",
       "      <td>Yu2022G1;Yu2022G2</td>\n",
       "      <td>4.790</td>\n",
       "    </tr>\n",
       "    <tr>\n",
       "      <th>2793</th>\n",
       "      <td>mh19SCUZJ-0056108</td>\n",
       "      <td>6</td>\n",
       "      <td>214</td>\n",
       "      <td>chr19</td>\n",
       "      <td>11146421</td>\n",
       "      <td>11146634</td>\n",
       "      <td>11146421;11146493;11146532;11146561;11146581;1...</td>\n",
       "      <td>11257097;11257169;11257208;11257237;11257257;1...</td>\n",
       "      <td>NaN</td>\n",
       "      <td>Zhu2023</td>\n",
       "      <td>3.835</td>\n",
       "    </tr>\n",
       "    <tr>\n",
       "      <th>2843</th>\n",
       "      <td>mh19WL-012</td>\n",
       "      <td>11</td>\n",
       "      <td>195</td>\n",
       "      <td>chr19</td>\n",
       "      <td>57013159</td>\n",
       "      <td>57013353</td>\n",
       "      <td>57013159;57013183;57013194;57013204;57013260;5...</td>\n",
       "      <td>57524527;57524551;57524562;57524572;57524628;5...</td>\n",
       "      <td>rs146339596;rs35575124;rs35524414;rs78154033;r...</td>\n",
       "      <td>Yu2022G1;Yu2022G2</td>\n",
       "      <td>4.385</td>\n",
       "    </tr>\n",
       "    <tr>\n",
       "      <th>3037</th>\n",
       "      <td>mh22WL-005.v1</td>\n",
       "      <td>6</td>\n",
       "      <td>133</td>\n",
       "      <td>chr22</td>\n",
       "      <td>49407294</td>\n",
       "      <td>49407426</td>\n",
       "      <td>49407294;49407371;49407377;49407382;49407404;4...</td>\n",
       "      <td>49800943;49801020;49801026;49801031;49801053;4...</td>\n",
       "      <td>rs470069;rs13057659;rs151257601;rs62235263;rs1...</td>\n",
       "      <td>Yu2022G1;Yu2022G2;Yu2022G3</td>\n",
       "      <td>4.523</td>\n",
       "    </tr>\n",
       "  </tbody>\n",
       "</table>\n",
       "</div>"
      ],
      "text/plain": [
       "                   Name  NumVars  Extent  Chrom     Start       End  \\\n",
       "2649      mh17WL-004.v1        4     194  chr17  68793693  68793886   \n",
       "2793  mh19SCUZJ-0056108        6     214  chr19  11146421  11146634   \n",
       "2843         mh19WL-012       11     195  chr19  57013159  57013353   \n",
       "3037      mh22WL-005.v1        6     133  chr22  49407294  49407426   \n",
       "\n",
       "                                              Positions  \\\n",
       "2649                68793693;68793818;68793847;68793886   \n",
       "2793  11146421;11146493;11146532;11146561;11146581;1...   \n",
       "2843  57013159;57013183;57013194;57013204;57013260;5...   \n",
       "3037  49407294;49407371;49407377;49407382;49407404;4...   \n",
       "\n",
       "                                            Positions37  \\\n",
       "2649                66789834;66789959;66789988;66790027   \n",
       "2793  11257097;11257169;11257208;11257237;11257257;1...   \n",
       "2843  57524527;57524551;57524562;57524572;57524628;5...   \n",
       "3037  49800943;49801020;49801026;49801031;49801053;4...   \n",
       "\n",
       "                                                  RSIDs  \\\n",
       "2649           rs16967221;rs2120192;rs6501742;rs9891808   \n",
       "2793                                                NaN   \n",
       "2843  rs146339596;rs35575124;rs35524414;rs78154033;r...   \n",
       "3037  rs470069;rs13057659;rs151257601;rs62235263;rs1...   \n",
       "\n",
       "                          Source     Ae  \n",
       "2649           Yu2022G1;Yu2022G2  4.790  \n",
       "2793                     Zhu2023  3.835  \n",
       "2843           Yu2022G1;Yu2022G2  4.385  \n",
       "3037  Yu2022G1;Yu2022G2;Yu2022G3  4.523  "
      ]
     },
     "execution_count": 30,
     "metadata": {},
     "output_type": "execute_result"
    }
   ],
   "source": [
    "microhapdb.markers[(microhapdb.markers.Name.isin([mh.name for mh in panel if mh.data.Ae < 5])) & (microhapdb.markers.Extent >= 100)]"
   ]
  },
  {
   "cell_type": "code",
   "execution_count": 32,
   "id": "05c78c55-262e-43fd-a190-76e7b27e0004",
   "metadata": {},
   "outputs": [
    {
     "data": {
      "text/html": [
       "<div>\n",
       "<style scoped>\n",
       "    .dataframe tbody tr th:only-of-type {\n",
       "        vertical-align: middle;\n",
       "    }\n",
       "\n",
       "    .dataframe tbody tr th {\n",
       "        vertical-align: top;\n",
       "    }\n",
       "\n",
       "    .dataframe thead th {\n",
       "        text-align: right;\n",
       "    }\n",
       "</style>\n",
       "<table border=\"1\" class=\"dataframe\">\n",
       "  <thead>\n",
       "    <tr style=\"text-align: right;\">\n",
       "      <th></th>\n",
       "      <th>Name</th>\n",
       "      <th>NumVars</th>\n",
       "      <th>Extent</th>\n",
       "      <th>Chrom</th>\n",
       "      <th>Start</th>\n",
       "      <th>End</th>\n",
       "      <th>Positions</th>\n",
       "      <th>Positions37</th>\n",
       "      <th>RSIDs</th>\n",
       "      <th>Source</th>\n",
       "      <th>Ae</th>\n",
       "    </tr>\n",
       "  </thead>\n",
       "  <tbody>\n",
       "    <tr>\n",
       "      <th>237</th>\n",
       "      <td>mh01SCUZJ-0675568</td>\n",
       "      <td>15</td>\n",
       "      <td>248</td>\n",
       "      <td>chr1</td>\n",
       "      <td>246868891</td>\n",
       "      <td>246869138</td>\n",
       "      <td>246868891;246868905;246868927;246868930;246868...</td>\n",
       "      <td>247032193;247032207;247032229;247032232;247032...</td>\n",
       "      <td>NaN</td>\n",
       "      <td>Zhu2023</td>\n",
       "      <td>72.533</td>\n",
       "    </tr>\n",
       "  </tbody>\n",
       "</table>\n",
       "</div>"
      ],
      "text/plain": [
       "                  Name  NumVars  Extent Chrom      Start        End  \\\n",
       "237  mh01SCUZJ-0675568       15     248  chr1  246868891  246869138   \n",
       "\n",
       "                                             Positions  \\\n",
       "237  246868891;246868905;246868927;246868930;246868...   \n",
       "\n",
       "                                           Positions37 RSIDs   Source      Ae  \n",
       "237  247032193;247032207;247032229;247032232;247032...   NaN  Zhu2023  72.533  "
      ]
     },
     "execution_count": 32,
     "metadata": {},
     "output_type": "execute_result"
    }
   ],
   "source": [
    "microhapdb.markers[microhapdb.markers.Name.isin([mh.name for mh in panel if mh.data.Ae > 40])]"
   ]
  },
  {
   "cell_type": "code",
   "execution_count": 35,
   "id": "96e4d607-6a92-4b5f-93f6-19babd422f28",
   "metadata": {},
   "outputs": [
    {
     "data": {
      "text/html": [
       "<div>\n",
       "<style scoped>\n",
       "    .dataframe tbody tr th:only-of-type {\n",
       "        vertical-align: middle;\n",
       "    }\n",
       "\n",
       "    .dataframe tbody tr th {\n",
       "        vertical-align: top;\n",
       "    }\n",
       "\n",
       "    .dataframe thead th {\n",
       "        text-align: right;\n",
       "    }\n",
       "</style>\n",
       "<table border=\"1\" class=\"dataframe\">\n",
       "  <thead>\n",
       "    <tr style=\"text-align: right;\">\n",
       "      <th></th>\n",
       "      <th>bin</th>\n",
       "      <th>swScore</th>\n",
       "      <th>milliDiv</th>\n",
       "      <th>milliDel</th>\n",
       "      <th>milliIns</th>\n",
       "      <th>genoName</th>\n",
       "      <th>genoStart</th>\n",
       "      <th>genoEnd</th>\n",
       "      <th>genoLeft</th>\n",
       "      <th>strand</th>\n",
       "      <th>repName</th>\n",
       "      <th>repClass</th>\n",
       "      <th>repFamily</th>\n",
       "      <th>repStart</th>\n",
       "      <th>repEnd</th>\n",
       "      <th>repLeft</th>\n",
       "      <th>id</th>\n",
       "    </tr>\n",
       "  </thead>\n",
       "  <tbody>\n",
       "    <tr>\n",
       "      <th>0</th>\n",
       "      <td>585</td>\n",
       "      <td>463</td>\n",
       "      <td>13</td>\n",
       "      <td>6</td>\n",
       "      <td>17</td>\n",
       "      <td>chr1</td>\n",
       "      <td>10000</td>\n",
       "      <td>10468</td>\n",
       "      <td>-248945954</td>\n",
       "      <td>+</td>\n",
       "      <td>(TAACCC)n</td>\n",
       "      <td>Simple_repeat</td>\n",
       "      <td>Simple_repeat</td>\n",
       "      <td>1</td>\n",
       "      <td>471</td>\n",
       "      <td>0</td>\n",
       "      <td>1</td>\n",
       "    </tr>\n",
       "    <tr>\n",
       "      <th>1</th>\n",
       "      <td>585</td>\n",
       "      <td>3612</td>\n",
       "      <td>114</td>\n",
       "      <td>215</td>\n",
       "      <td>13</td>\n",
       "      <td>chr1</td>\n",
       "      <td>10468</td>\n",
       "      <td>11447</td>\n",
       "      <td>-248944975</td>\n",
       "      <td>-</td>\n",
       "      <td>TAR1</td>\n",
       "      <td>Satellite</td>\n",
       "      <td>telo</td>\n",
       "      <td>-399</td>\n",
       "      <td>1712</td>\n",
       "      <td>483</td>\n",
       "      <td>2</td>\n",
       "    </tr>\n",
       "    <tr>\n",
       "      <th>2</th>\n",
       "      <td>585</td>\n",
       "      <td>484</td>\n",
       "      <td>251</td>\n",
       "      <td>132</td>\n",
       "      <td>0</td>\n",
       "      <td>chr1</td>\n",
       "      <td>11504</td>\n",
       "      <td>11675</td>\n",
       "      <td>-248944747</td>\n",
       "      <td>-</td>\n",
       "      <td>L1MC5a</td>\n",
       "      <td>LINE</td>\n",
       "      <td>L1</td>\n",
       "      <td>-2382</td>\n",
       "      <td>395</td>\n",
       "      <td>199</td>\n",
       "      <td>3</td>\n",
       "    </tr>\n",
       "    <tr>\n",
       "      <th>3</th>\n",
       "      <td>585</td>\n",
       "      <td>239</td>\n",
       "      <td>294</td>\n",
       "      <td>19</td>\n",
       "      <td>10</td>\n",
       "      <td>chr1</td>\n",
       "      <td>11677</td>\n",
       "      <td>11780</td>\n",
       "      <td>-248944642</td>\n",
       "      <td>-</td>\n",
       "      <td>MER5B</td>\n",
       "      <td>DNA</td>\n",
       "      <td>hAT-Charlie</td>\n",
       "      <td>-74</td>\n",
       "      <td>104</td>\n",
       "      <td>1</td>\n",
       "      <td>4</td>\n",
       "    </tr>\n",
       "    <tr>\n",
       "      <th>4</th>\n",
       "      <td>585</td>\n",
       "      <td>318</td>\n",
       "      <td>230</td>\n",
       "      <td>37</td>\n",
       "      <td>0</td>\n",
       "      <td>chr1</td>\n",
       "      <td>15264</td>\n",
       "      <td>15355</td>\n",
       "      <td>-248941067</td>\n",
       "      <td>-</td>\n",
       "      <td>MIR3</td>\n",
       "      <td>SINE</td>\n",
       "      <td>MIR</td>\n",
       "      <td>-119</td>\n",
       "      <td>143</td>\n",
       "      <td>49</td>\n",
       "      <td>5</td>\n",
       "    </tr>\n",
       "  </tbody>\n",
       "</table>\n",
       "</div>"
      ],
      "text/plain": [
       "   bin  swScore  milliDiv  milliDel  milliIns genoName  genoStart  genoEnd  \\\n",
       "0  585      463        13         6        17     chr1      10000    10468   \n",
       "1  585     3612       114       215        13     chr1      10468    11447   \n",
       "2  585      484       251       132         0     chr1      11504    11675   \n",
       "3  585      239       294        19        10     chr1      11677    11780   \n",
       "4  585      318       230        37         0     chr1      15264    15355   \n",
       "\n",
       "    genoLeft strand    repName       repClass      repFamily  repStart  \\\n",
       "0 -248945954      +  (TAACCC)n  Simple_repeat  Simple_repeat         1   \n",
       "1 -248944975      -       TAR1      Satellite           telo      -399   \n",
       "2 -248944747      -     L1MC5a           LINE             L1     -2382   \n",
       "3 -248944642      -      MER5B            DNA    hAT-Charlie       -74   \n",
       "4 -248941067      -       MIR3           SINE            MIR      -119   \n",
       "\n",
       "   repEnd  repLeft  id  \n",
       "0     471        0   1  \n",
       "1    1712      483   2  \n",
       "2     395      199   3  \n",
       "3     104        1   4  \n",
       "4     143       49   5  "
      ]
     },
     "execution_count": 35,
     "metadata": {},
     "output_type": "execute_result"
    }
   ],
   "source": [
    "header = [\"bin\", \"swScore\", \"milliDiv\", \"milliDel\", \"milliIns\", \"genoName\", \"genoStart\", \"genoEnd\", \"genoLeft\", \"strand\", \"repName\", \"repClass\", \"repFamily\", \"repStart\", \"repEnd\", \"repLeft\", \"id\"]\n",
    "rmsk = pd.read_csv(\"rmsk.txt.gz\", sep=\"\\t\", names=header)\n",
    "rmsk.head()"
   ]
  },
  {
   "cell_type": "code",
   "execution_count": 43,
   "id": "9621c839-a245-4a07-809e-9ba63107c3e6",
   "metadata": {},
   "outputs": [
    {
     "name": "stdout",
     "output_type": "stream",
     "text": [
      "61\n"
     ]
    }
   ],
   "source": [
    "repeats = dict()\n",
    "for marker in panel:\n",
    "    overlap = rmsk[(rmsk.genoName == marker.chrom) & (rmsk.genoEnd > marker.start) & (rmsk.genoStart < marker.end)]\n",
    "    rep = len(overlap) > 0\n",
    "    if rep:\n",
    "        repeats[marker.name] = overlap\n",
    "print(len(repeats))"
   ]
  },
  {
   "cell_type": "code",
   "execution_count": 45,
   "id": "a10c463d-5ba9-4a6a-aacc-315256c43a5a",
   "metadata": {},
   "outputs": [
    {
     "name": "stdout",
     "output_type": "stream",
     "text": [
      "mh22SCUZJ-0043764 mh14SCUZJ-0096560 mh05WL-004 mh02LW-7 mh12SCUZJ-0364164\n"
     ]
    },
    {
     "name": "stderr",
     "output_type": "stream",
     "text": [
      "/var/folders/c_/5x4wpqxd73923hskscprwxg1j8qmlk/T/ipykernel_3014/412080204.py:1: DeprecationWarning: Sampling from a set deprecated\n",
      "since Python 3.9 and will be removed in a subsequent version.\n",
      "  sample = random.sample(repeats.keys(), 5)\n"
     ]
    }
   ],
   "source": [
    "sample = random.sample(repeats.keys(), 5)\n",
    "print(*sample)"
   ]
  },
  {
   "cell_type": "code",
   "execution_count": 51,
   "id": "575e4a84-588a-4dea-aee4-4f832872af2a",
   "metadata": {},
   "outputs": [
    {
     "data": {
      "text/html": [
       "<div>\n",
       "<style scoped>\n",
       "    .dataframe tbody tr th:only-of-type {\n",
       "        vertical-align: middle;\n",
       "    }\n",
       "\n",
       "    .dataframe tbody tr th {\n",
       "        vertical-align: top;\n",
       "    }\n",
       "\n",
       "    .dataframe thead th {\n",
       "        text-align: right;\n",
       "    }\n",
       "</style>\n",
       "<table border=\"1\" class=\"dataframe\">\n",
       "  <thead>\n",
       "    <tr style=\"text-align: right;\">\n",
       "      <th></th>\n",
       "      <th>bin</th>\n",
       "      <th>swScore</th>\n",
       "      <th>milliDiv</th>\n",
       "      <th>milliDel</th>\n",
       "      <th>milliIns</th>\n",
       "      <th>genoName</th>\n",
       "      <th>genoStart</th>\n",
       "      <th>genoEnd</th>\n",
       "      <th>genoLeft</th>\n",
       "      <th>strand</th>\n",
       "      <th>repName</th>\n",
       "      <th>repClass</th>\n",
       "      <th>repFamily</th>\n",
       "      <th>repStart</th>\n",
       "      <th>repEnd</th>\n",
       "      <th>repLeft</th>\n",
       "      <th>id</th>\n",
       "    </tr>\n",
       "  </thead>\n",
       "  <tbody>\n",
       "    <tr>\n",
       "      <th>3883207</th>\n",
       "      <td>1187</td>\n",
       "      <td>287</td>\n",
       "      <td>321</td>\n",
       "      <td>131</td>\n",
       "      <td>22</td>\n",
       "      <td>chr5</td>\n",
       "      <td>78976854</td>\n",
       "      <td>78977161</td>\n",
       "      <td>-102561098</td>\n",
       "      <td>+</td>\n",
       "      <td>L2a</td>\n",
       "      <td>LINE</td>\n",
       "      <td>L2</td>\n",
       "      <td>2916</td>\n",
       "      <td>3254</td>\n",
       "      <td>-121</td>\n",
       "      <td>3</td>\n",
       "    </tr>\n",
       "  </tbody>\n",
       "</table>\n",
       "</div>"
      ],
      "text/plain": [
       "          bin  swScore  milliDiv  milliDel  milliIns genoName  genoStart  \\\n",
       "3883207  1187      287       321       131        22     chr5   78976854   \n",
       "\n",
       "          genoEnd   genoLeft strand repName repClass repFamily  repStart  \\\n",
       "3883207  78977161 -102561098      +     L2a     LINE        L2      2916   \n",
       "\n",
       "         repEnd  repLeft  id  \n",
       "3883207    3254     -121   3  "
      ]
     },
     "execution_count": 51,
     "metadata": {},
     "output_type": "execute_result"
    }
   ],
   "source": [
    "repeats[\"mh05WL-004\"]"
   ]
  },
  {
   "cell_type": "code",
   "execution_count": null,
   "id": "a7da889e-ed23-4787-b842-669a95abdb6b",
   "metadata": {},
   "outputs": [],
   "source": []
  },
  {
   "cell_type": "code",
   "execution_count": null,
   "id": "5140990f-1329-4b03-9c8f-d0c2493a6426",
   "metadata": {},
   "outputs": [],
   "source": []
  },
  {
   "cell_type": "code",
   "execution_count": null,
   "id": "8834aadb-6ab7-424b-940a-dd56c3d5f68e",
   "metadata": {},
   "outputs": [],
   "source": []
  },
  {
   "cell_type": "code",
   "execution_count": null,
   "id": "e9246614-3a9e-4cc4-9cd6-877c55f1ec58",
   "metadata": {},
   "outputs": [],
   "source": []
  },
  {
   "cell_type": "code",
   "execution_count": 21,
   "id": "e0a35d07-9601-46f4-9697-09cfb3c63cb4",
   "metadata": {},
   "outputs": [
    {
     "name": "stdout",
     "output_type": "stream",
     "text": [
      "mh22LS-22qB mh22WL-005.v1 mh22SCUZJ-0043764 mh21KK-324.v4 mh21FHL-002.v1 mh21SCUZJ-0002749 mh16WL-040.v1 mh16WL-012.v1 mh16KK-259.v3 mh20SCUZJ-0148996 mh20WL-023.v1 mh20SCUZJ-0014987 mh19WL-018 mh19KK-299.v4 mh19USC-19qA.v2 mh19WL-012 mh19SCUZJ-0007484 mh19SCUZJ-0056108 mh14WL-028.v2 mh14LW-35 mh14SCUZJ-0040957.v1 mh14SCUZJ-0096560 mh14SHY-003.v3 mh14WL-030.v2 mh17USC-17qB mh17CP-005 mh17KK-278.v1 mh17WL-004.v1 mh17WL-022.v1 mh17SCUZJ-0017214.v1 mh11PK-63643.v1 mh11WL-026 mh11WL-004.v1 mh11WL-005.v1 mh11SCUZJ-0402779 mh11SCUZJ-0078959 mh18WL-031 mh18WL-018 mh18WL-022.v1 mh18SHY-001 mh18SCUZJ-0236206 mh18SCUZJ-0058695 mh13KK-225.v2 mh13LW-33 mh13KK-218.v4 mh13SCUZJ-0323513 mh13WL-001.v2 mh13USC-13qA.v3 mh09USC-9qC mh09USC-9qA mh09SCUZJ-0076471 mh09WL-034 mh09SHY-001.v3 mh09KK-153.v3 mh15USC-15qA mh15LW-39 mh15SCUZJ-0082880 mh15WL-001.v1 mh15SCUZJ-0267777 mh15SCUZJ-0204760.v1 mh10SHY-002.v2 mh10SCUZJ-0204710.v2 mh10WL-012.v1 mh10WL-001.v1 mh10SCUZJ-0255190 mh10SCUZJ-0149820 mh01WL-087 mh01WL-033.v1 mh01WL-005.v1 mh01WL-006.v1 mh01SCUZJ-0675568 mh01SCUZJ-0041531 mh07WL-072 mh07SCUZJ-0350377 mh07KK-009.v3 mh07SCUZJ-0395598 mh07SCUZJ-0502291.v2 mh07WL-022.v2 mh08WL-030 mh08WL-031 mh08KK-137.v2 mh08SHY-005 mh08WL-037 mh08SCUZJ-0470219 mh05WL-004 mh05USC-5qA mh05WL-067.v1 mh05SCUZJ-0482831 mh05SCUZJ-0529358 mh05KK-170.v3 mh12SCUZJ-0364164 mh12SHY-001.v3 mh12KK-201.v2 mh12SCUZJ-0181516 mh12WL-002.v2 mh12SCUZJ-0423152 mh03USC-3qC.v1 mh03LW-11 mh03SCUZJ-0521312 mh03KK-017.v1 mh03SCUZJ-0000972.v2 mh03SCUZJ-0080612 mh06LW-22 mh06WL-005.v2 mh06SCUZJ-0528857 mh06WL-017.v1 mh06WL-051 mh06WL-004.v2 mh04WL-012.v1 mh04LW-15 mh04SHY-001.v2 mh04SCUZJ-0684549.v2 mh04WL-052.v1 mh04FHL-005.v3 mh02LW-7 mh02KK-134.v4 mh02ZHA-013.v2 mh02WL-002.v1 mh02KK-014.v4 mh02SCUZJ-0308581.v1\n"
     ]
    }
   ],
   "source": [
    "print(*[mh.name for mh in panel])"
   ]
  },
  {
   "cell_type": "code",
   "execution_count": 22,
   "id": "4464831e-8083-433b-b196-b861c5c8cc96",
   "metadata": {},
   "outputs": [
    {
     "name": "stdout",
     "output_type": "stream",
     "text": [
      "('Zhu2023', 45)\n",
      "('Yu2022G1', 28)\n",
      "('Yu2022G3', 20)\n",
      "('Yu2022G2', 19)\n",
      "('Yu2022G4', 13)\n",
      "('Zhang2023', 8)\n",
      "('delaPuente2020', 6)\n",
      "('Pakstis2021', 4)\n",
      "('Staadig2021', 3)\n",
      "('Fan2022', 3)\n",
      "('Gandotra2020', 3)\n",
      "('Wu2021', 3)\n",
      "('NimaGen2023', 2)\n",
      "('Du2023', 1)\n",
      "('Kidd2018', 1)\n",
      "('vanderGaag2018', 1)\n"
     ]
    }
   ],
   "source": [
    "source_counts = Counter()\n",
    "for mh in panel:\n",
    "    for source in mh.data.Source.split(\";\"):\n",
    "        source_counts[source] += 1\n",
    "print(*source_counts.most_common(), sep=\"\\n\")"
   ]
  },
  {
   "cell_type": "code",
   "execution_count": 31,
   "id": "35478e13-b11e-4327-97ca-b7382e024ba2",
   "metadata": {},
   "outputs": [
    {
     "data": {
      "image/png": "[encoded data removed]",
      "text/plain": [
       "<Figure size 750x750 with 1 Axes>"
      ]
     },
     "metadata": {},
     "output_type": "display_data"
    }
   ],
   "source": [
    "plt.figure(figsize=(5, 5), dpi=150)\n",
    "plt.scatter([len(mh) for mh in panel_short], [mh.data.Ae for mh in panel_short], marker=\"+\", alpha=0.5, color=\"green\")\n",
    "plt.scatter([len(mh) for mh in panel_medium], [mh.data.Ae for mh in panel_medium], marker=\"2\", alpha=0.5, color=\"red\")\n",
    "plt.scatter([len(mh) for mh in panel_long], [mh.data.Ae for mh in panel_long], marker=\"x\", alpha=0.5, color=\"blue\")\n",
    "plt.ylabel(\"$A_e$ (1KGP 26-population Average)\")\n",
    "plt.xlabel(\"Marker length (bp)\")\n",
    "plt.ylim((0, 35))\n",
    "plt.gca().spines[\"top\"].set_visible(False)\n",
    "plt.gca().spines[\"right\"].set_visible(False)\n",
    "plt.gca().yaxis.grid(True, color=\"#DDDDDD\")\n",
    "plt.gca().set_axisbelow(True)"
   ]
  },
  {
   "cell_type": "code",
   "execution_count": null,
   "id": "9808a31f-7012-4f08-941f-53e49b6b2136",
   "metadata": {},
   "outputs": [],
   "source": []
  },
  {
   "cell_type": "code",
   "execution_count": null,
   "id": "31adf47b-bf4e-4c69-b237-ff6d22a4cb22",
   "metadata": {},
   "outputs": [],
   "source": []
  },
  {
   "cell_type": "code",
   "execution_count": null,
   "id": "82d5a2af-65a9-4bdf-ab4b-34713ce1db73",
   "metadata": {},
   "outputs": [],
   "source": []
  },
  {
   "cell_type": "code",
   "execution_count": null,
   "id": "2daa2d2c-5123-4d6b-94a2-979ae801f11d",
   "metadata": {},
   "outputs": [],
   "source": []
  },
  {
   "cell_type": "code",
   "execution_count": 3,
   "id": "bbf0cf7d-d2b6-4741-9af8-05fe6942a387",
   "metadata": {},
   "outputs": [],
   "source": [
    "def clique_distr_per_chromosome(cmarkers):\n",
    "    cgraph = nx.Graph()\n",
    "    cgraph.add_nodes_from(cmarkers)\n",
    "    for mh1, mh2 in combinations(cmarkers, 2):\n",
    "        if abs(mh1.start - mh2.start) >= 10e6:\n",
    "            cgraph.add_edge(mh1, mh2)\n",
    "    cliques = list(nx.find_cliques(cgraph))\n",
    "    clique_size_distr = Counter([len(c) for c in cliques])\n",
    "    return cliques, clique_size_distr"
   ]
  },
  {
   "cell_type": "code",
   "execution_count": null,
   "id": "a1e23b0a-8cd0-4134-949e-de0c5df611af",
   "metadata": {},
   "outputs": [],
   "source": [
    "chroms = sorted(set([m.chrom for m in markers]))\n",
    "cliques_by_chrom = dict()\n",
    "clique_distr_by_chrom = dict()\n",
    "for chrom in chroms:\n",
    "    cmarkers = [m for m in markers if m.chrom == chrom]\n",
    "    cliques, clique_size_distr = clique_distr_per_chromosome(cmarkers)\n",
    "    cliques_by_chrom[chrom] = cliques\n",
    "    clique_distr_by_chrom[chrom] = clique_size_dist\n",
    "    print(f\"{chrom} done!\")"
   ]
  },
  {
   "cell_type": "code",
   "execution_count": null,
   "id": "f4eb61d5-579a-4602-89c6-af3e91f0fa58",
   "metadata": {},
   "outputs": [],
   "source": []
  },
  {
   "cell_type": "code",
   "execution_count": null,
   "id": "ea7dc681-ab16-4a98-a5be-fa2a245bc9ed",
   "metadata": {},
   "outputs": [],
   "source": []
  },
  {
   "cell_type": "code",
   "execution_count": 3,
   "id": "8536af78-bdbd-460f-9af5-62fd50625e1d",
   "metadata": {},
   "outputs": [
    {
     "name": "stdout",
     "output_type": "stream",
     "text": [
      "short N=675 maxAe=10.818\n",
      "medium N=1139 maxAe=16.593\n",
      "long N=768 maxAe=72.533\n"
     ]
    }
   ],
   "source": [
    "short = [m for m in markers if len(m) < 100]\n",
    "medium = [m for m in markers if 100 <= len(m) < 200]\n",
    "long = [m for m in markers if 200 <= len(m) < 300]\n",
    "print(f\"short N={len(short)} maxAe={max([m.data.Ae for m in short])}\")\n",
    "print(f\"medium N={len(medium)} maxAe={max([m.data.Ae for m in medium])}\")\n",
    "print(f\"long N={len(long)} maxAe={max([m.data.Ae for m in long])}\")"
   ]
  },
  {
   "cell_type": "code",
   "execution_count": 27,
   "id": "3759ad02-bf37-4dbd-b61b-03552217ace0",
   "metadata": {},
   "outputs": [],
   "source": [
    "graph = nx.Graph()\n",
    "cmarkers = [m for m in markers if m.chrom == \"chr19\"]\n",
    "graph.add_nodes_from(cmarkers)\n",
    "for mh1, mh2 in combinations(cmarkers, 2):\n",
    "    if abs(mh1.start - mh2.start) >= 10e6:\n",
    "        graph.add_edge(mh1, mh2)"
   ]
  },
  {
   "cell_type": "code",
   "execution_count": 34,
   "id": "c1a309eb-7f5b-4ff5-8a8f-027e32e20269",
   "metadata": {},
   "outputs": [
    {
     "data": {
      "image/png": "[encoded data removed]",
      "text/plain": [
       "<Figure size 640x480 with 1 Axes>"
      ]
     },
     "metadata": {},
     "output_type": "display_data"
    }
   ],
   "source": [
    "nx.draw_circular(graph)"
   ]
  },
  {
   "cell_type": "code",
   "execution_count": 29,
   "id": "e6a53053-ef93-49c8-967b-1f49859030f8",
   "metadata": {},
   "outputs": [
    {
     "name": "stdout",
     "output_type": "stream",
     "text": [
      "75 75\n"
     ]
    }
   ],
   "source": [
    "gprime = max(nx.connected_components(graph), key=len)\n",
    "print(len(graph), len(gprime))"
   ]
  },
  {
   "cell_type": "code",
   "execution_count": 31,
   "id": "1809ac69-6dd9-43f6-be9f-d263c3a4e092",
   "metadata": {},
   "outputs": [
    {
     "data": {
      "text/plain": [
       "154508"
      ]
     },
     "execution_count": 31,
     "metadata": {},
     "output_type": "execute_result"
    }
   ],
   "source": [
    "cliques = list(nx.enumerate_all_cliques(graph))\n",
    "len(cliques)"
   ]
  },
  {
   "cell_type": "code",
   "execution_count": 79,
   "id": "d2b3c961-626e-4990-8c4f-db199154cf0a",
   "metadata": {},
   "outputs": [
    {
     "data": {
      "text/plain": [
       "6"
      ]
     },
     "execution_count": 79,
     "metadata": {},
     "output_type": "execute_result"
    }
   ],
   "source": [
    "max([len(c) for c in cliques])"
   ]
  },
  {
   "cell_type": "code",
   "execution_count": 80,
   "id": "e72037fb-53d3-48fc-9cec-2eccf64d776f",
   "metadata": {},
   "outputs": [
    {
     "data": {
      "text/plain": [
       "48145"
      ]
     },
     "execution_count": 80,
     "metadata": {},
     "output_type": "execute_result"
    }
   ],
   "source": [
    "max_cliques = [c for c in cliques if len(c) >= 5]\n",
    "len(max_cliques)"
   ]
  },
  {
   "cell_type": "code",
   "execution_count": 82,
   "id": "ae9c79b8-0447-4611-b15e-3605f0967df0",
   "metadata": {},
   "outputs": [
    {
     "data": {
      "text/plain": [
       "25415"
      ]
     },
     "execution_count": 82,
     "metadata": {},
     "output_type": "execute_result"
    }
   ],
   "source": [
    "max_cliques_all_lengths = [c for c in max_cliques if has_short_medium_long(c)]\n",
    "len(max_cliques_all_lengths)"
   ]
  },
  {
   "cell_type": "code",
   "execution_count": 84,
   "id": "a4aef245-e4fe-4425-81fb-c68528eb06ff",
   "metadata": {},
   "outputs": [],
   "source": [
    "max_cliques_all_lengths_sorted = sorted(max_cliques_all_lengths, key=lambda c: clique_avg_ae(c), reverse=True)"
   ]
  },
  {
   "cell_type": "code",
   "execution_count": 85,
   "id": "c41f9400-616b-4d2d-a23b-3013f3230195",
   "metadata": {},
   "outputs": [
    {
     "data": {
      "text/plain": [
       "(['mh19SCUZJ-0028962',\n",
       "  'mh19SCUZJ-0091391',\n",
       "  'mh19USC-19qA.v2',\n",
       "  'mh19WL-018',\n",
       "  'mh19SCUZJ-0249059.v1'],\n",
       " 9.2618)"
      ]
     },
     "execution_count": 85,
     "metadata": {},
     "output_type": "execute_result"
    }
   ],
   "source": [
    "[m.name for m in max_cliques_all_lengths_sorted[0]], clique_avg_ae(max_cliques_all_lengths_sorted[0])"
   ]
  },
  {
   "cell_type": "code",
   "execution_count": 86,
   "id": "a71636ae-0be0-418d-a6ce-904763d19cc8",
   "metadata": {},
   "outputs": [
    {
     "data": {
      "text/plain": [
       "(['mh19SCUZJ-0028962',\n",
       "  'mh19USC-19pB',\n",
       "  'mh19SCUZJ-0121709',\n",
       "  'mh19SCUZJ-0164190',\n",
       "  'mh19SCUZJ-0249059.v1'],\n",
       " 9.099599999999999)"
      ]
     },
     "execution_count": 86,
     "metadata": {},
     "output_type": "execute_result"
    }
   ],
   "source": [
    "[m.name for m in max_cliques_all_lengths_sorted[1]], clique_avg_ae(max_cliques_all_lengths_sorted[1])"
   ]
  },
  {
   "cell_type": "code",
   "execution_count": 87,
   "id": "c39fdd81-7790-48ce-987f-0bcc1ffe39b6",
   "metadata": {},
   "outputs": [
    {
     "data": {
      "text/plain": [
       "(['mh19SCUZJ-0028962',\n",
       "  'mh19USC-19pB',\n",
       "  'mh19ZHA-007',\n",
       "  'mh19SCUZJ-0164190',\n",
       "  'mh19SCUZJ-0249059.v1'],\n",
       " 9.0414)"
      ]
     },
     "execution_count": 87,
     "metadata": {},
     "output_type": "execute_result"
    }
   ],
   "source": [
    "[m.name for m in max_cliques_all_lengths_sorted[2]], clique_avg_ae(max_cliques_all_lengths_sorted[2])"
   ]
  },
  {
   "cell_type": "code",
   "execution_count": null,
   "id": "6b3ea4f5-30b6-4a58-8030-872a1ccc9d4d",
   "metadata": {},
   "outputs": [],
   "source": [
    "# generate cliques of different lengths for each chromosome; combine, rank, filter, and see which panel of 120 has the best avg Ae"
   ]
  }
 ],
 "metadata": {
  "kernelspec": {
   "display_name": "Python 3 (ipykernel)",
   "language": "python",
   "name": "python3"
  },
  "language_info": {
   "codemirror_mode": {
    "name": "ipython",
    "version": 3
   },
   "file_extension": ".py",
   "mimetype": "text/x-python",
   "name": "python",
   "nbconvert_exporter": "python",
   "pygments_lexer": "ipython3",
   "version": "3.9.13"
  }
 },
 "nbformat": 4,
 "nbformat_minor": 5
}
